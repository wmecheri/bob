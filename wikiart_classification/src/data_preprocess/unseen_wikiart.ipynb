{
 "cells": [
  {
   "cell_type": "code",
   "execution_count": 1,
   "id": "4187b058-6fe2-4399-84a6-fdf751c6c050",
   "metadata": {},
   "outputs": [
    {
     "name": "stdout",
     "output_type": "stream",
     "text": [
      "Remapped dataset loaded from disk\n",
      "Dataset size: 17061 images.\n"
     ]
    },
    {
     "data": {
      "application/vnd.jupyter.widget-view+json": {
       "model_id": "e21af00145f543eeade6b435263ddc47",
       "version_major": 2,
       "version_minor": 0
      },
      "text/plain": [
       "Saving the dataset (0/5 shards):   0%|          | 0/5119 [00:00<?, ? examples/s]"
      ]
     },
     "metadata": {},
     "output_type": "display_data"
    },
    {
     "name": "stdout",
     "output_type": "stream",
     "text": [
      "Combined dataset saved to C:/Users/wassi/Documents/Fanshawe/S2/pytorch/Project/bob/data/mywikiart\n"
     ]
    }
   ],
   "source": [
    "from datasets import concatenate_datasets, DatasetDict\n",
    "import random\n",
    "import torch\n",
    "import torch.nn as nn\n",
    "import torchvision.transforms as transforms\n",
    "from torch.utils.data import DataLoader\n",
    "from datasets import load_from_disk\n",
    "import matplotlib.pyplot as plt\n",
    "from PIL import Image\n",
    "import torch.nn.functional as F\n",
    "from torchvision.models import resnet50, ResNet50_Weights\n",
    "import json\n",
    "\n",
    "device = torch.device(\"cuda\" if torch.cuda.is_available() else \"cpu\")\n",
    "\n",
    "config_path = \"C:/Users/wassi/Documents/Fanshawe/S2/pytorch/Project/wikiart_classification/models_history/resnet50_finetune/best_config.json\"\n",
    "model_path = \"C:/Users/wassi/Documents/Fanshawe/S2/pytorch/Project/wikiart_classification/models_history/resnet50_finetune/best_resnet50_finetune_multihhead.pth\"\n",
    "\n",
    "with open(config_path, \"r\") as f:\n",
    "    best_config = json.load(f)\n",
    "\n",
    "dataset_path = \"C:/Users/wassi/Documents/Fanshawe/S2/pytorch/Project/wikiart_classification/data/remapped_dataset\"\n",
    "dataset = load_from_disk(dataset_path)\n",
    "print(\"Remapped dataset loaded from disk\")\n",
    "print(f\"Dataset size: {len(dataset)} images.\")\n",
    "\n",
    "split_ds = dataset.train_test_split(test_size=0.2, seed=42)\n",
    "test_dataset = split_ds[\"test\"]\n",
    "train_val_dataset = split_ds[\"train\"]\n",
    "split_remaining = train_val_dataset.train_test_split(test_size=0.125, seed=42)\n",
    "train_dataset = split_remaining[\"train\"]\n",
    "val_dataset = split_remaining[\"test\"]\n",
    "\n",
    "# Concatenate the test and validation datasets\n",
    "combined_dataset = concatenate_datasets([test_dataset, val_dataset])\n",
    "\n",
    "# Save the combined dataset locally\n",
    "save_path = \"C:/Users/wassi/Documents/Fanshawe/S2/pytorch/Project/bob/data/mywikiart\"\n",
    "combined_dataset.save_to_disk(save_path)\n",
    "\n",
    "print(f\"Combined dataset saved to {save_path}\")\n"
   ]
  }
 ],
 "metadata": {
  "kernelspec": {
   "display_name": "Python 3 (ipykernel)",
   "language": "python",
   "name": "python3"
  },
  "language_info": {
   "codemirror_mode": {
    "name": "ipython",
    "version": 3
   },
   "file_extension": ".py",
   "mimetype": "text/x-python",
   "name": "python",
   "nbconvert_exporter": "python",
   "pygments_lexer": "ipython3",
   "version": "3.12.8"
  }
 },
 "nbformat": 4,
 "nbformat_minor": 5
}
