{
 "cells": [
  {
   "cell_type": "code",
   "execution_count": 1,
   "id": "7cc96286-b778-4498-8e8e-3ce236fdbcc4",
   "metadata": {},
   "outputs": [],
   "source": [
    "import random\n",
    "import torch\n",
    "import torch.nn as nn\n",
    "import torch.optim as optim\n",
    "import torchvision.transforms as transforms\n",
    "from torch.utils.data import DataLoader\n",
    "from datasets import load_from_disk\n",
    "from tqdm.auto import tqdm\n",
    "import gc\n",
    "from PIL import Image\n",
    "import torch.nn.functional as F\n",
    "import torchvision.models as models\n",
    "import matplotlib.pyplot as plt"
   ]
  },
  {
   "cell_type": "code",
   "execution_count": 2,
   "id": "e7fa7131-376c-487c-8410-de93f6a05609",
   "metadata": {},
   "outputs": [
    {
     "name": "stdout",
     "output_type": "stream",
     "text": [
      "Remapped dataset loaded from disk\n",
      "Dataset size: 17061 images.\n",
      "Train dataset size: 11942 images\n",
      "Validation dataset size: 1706 images\n",
      "Test dataset size: 3413 images\n",
      "DataLoaders are ready\n"
     ]
    }
   ],
   "source": [
    "# Data Preprocessing\n",
    "# Load the remapped balanced dataset\n",
    "dataset_path = \"C:/Users/wassi/Documents/Fanshawe/S2/pytorch/Project/wikiart_classification/data/remapped_dataset\"\n",
    "dataset = load_from_disk(dataset_path)\n",
    "print(\"Remapped dataset loaded from disk\")\n",
    "print(f\"Dataset size: {len(dataset)} images.\")\n",
    "\n",
    "split_ds = dataset.train_test_split(test_size=0.2, seed=42)\n",
    "test_dataset = split_ds[\"test\"]\n",
    "train_val_dataset = split_ds[\"train\"]\n",
    "split_remaining = train_val_dataset.train_test_split(test_size=0.125, seed=42)\n",
    "train_dataset = split_remaining[\"train\"]\n",
    "val_dataset = split_remaining[\"test\"]\n",
    "\n",
    "print(f\"Train dataset size: {len(train_dataset)} images\")\n",
    "print(f\"Validation dataset size: {len(val_dataset)} images\")\n",
    "print(f\"Test dataset size: {len(test_dataset)} images\")\n",
    "\n",
    "train_transforms = transforms.Compose([\n",
    "    transforms.RandomResizedCrop(size=224),\n",
    "    transforms.RandomHorizontalFlip(),\n",
    "    transforms.RandAugment(num_ops=2, magnitude=9),\n",
    "    transforms.ToTensor(),\n",
    "    transforms.Normalize(mean=[0.485, 0.456, 0.406],\n",
    "                         std=[0.229, 0.224, 0.225])\n",
    "])\n",
    "\n",
    "def process_image(image):\n",
    "    \"\"\"\n",
    "    Receives a raw PIL image, applies the transformation, and ensures the output is 224x224.\n",
    "    \"\"\"\n",
    "    # Apply transforms. This converts the PIL image to a tensor of shape [3, 224, 224]\n",
    "    img_tensor = train_transforms(image)\n",
    "    # Double-check that the output is the desired shape\n",
    "    if img_tensor.shape[-2:] != (224, 224):\n",
    "        img_tensor = F.interpolate(img_tensor.unsqueeze(0), size=(224, 224), mode='bilinear', align_corners=False).squeeze(0)\n",
    "    return img_tensor\n",
    "\n",
    "def custom_collate_fn(batch):\n",
    "    \"\"\"\n",
    "    Custom collate that:\n",
    "      - Processes the raw PIL image using process_image.\n",
    "      - Converts \"genre\" and \"style\" to tensors.\n",
    "    \"\"\"\n",
    "    images = [process_image(item[\"image\"]) for item in batch]\n",
    "    genres = torch.tensor([item[\"genre\"] for item in batch])\n",
    "    styles = torch.tensor([item[\"style\"] for item in batch])\n",
    "    return {\"image\": torch.stack(images), \"genre\": genres, \"style\": styles}\n",
    "\n",
    "# Create DataLoaders\n",
    "train_loader = DataLoader(train_dataset, batch_size=32, shuffle=True, collate_fn=custom_collate_fn)\n",
    "val_loader = DataLoader(val_dataset, batch_size=32, shuffle=False, collate_fn=custom_collate_fn)\n",
    "test_loader = DataLoader(test_dataset, batch_size=32, shuffle=False, collate_fn=custom_collate_fn)\n",
    "\n",
    "print(\"DataLoaders are ready\")\n"
   ]
  },
  {
   "cell_type": "code",
   "execution_count": 3,
   "id": "ef843c6c-75c4-4f82-89cf-f10adffde8b8",
   "metadata": {},
   "outputs": [
    {
     "name": "stdout",
     "output_type": "stream",
     "text": [
      "Number of genre classes: 11\n",
      "Number of style classes: 11\n"
     ]
    }
   ],
   "source": [
    "class ResNet50MultiHead(nn.Module):\n",
    "    def __init__(self, num_genres, num_styles):\n",
    "        super(ResNet50MultiHead, self).__init__()\n",
    "        # Load pretrained ResNet50\n",
    "        self.resnet = models.resnet50(pretrained=True)\n",
    "        # Freeze all ResNet50 parameters\n",
    "        for param in self.resnet.parameters():\n",
    "            param.requires_grad = False\n",
    "        \n",
    "        # Remove the original final fully connected layer\n",
    "        in_features = self.resnet.fc.in_features\n",
    "        self.resnet.fc = nn.Identity()\n",
    "        \n",
    "        # Define separate classifier heads for genre and style\n",
    "        self.genre_classifier = nn.Sequential(\n",
    "            nn.Linear(in_features, 256),\n",
    "            nn.ReLU(inplace=True),\n",
    "            nn.Linear(256, num_genres)\n",
    "        )\n",
    "        self.style_classifier = nn.Sequential(\n",
    "            nn.Linear(in_features, 256),\n",
    "            nn.ReLU(inplace=True),\n",
    "            nn.Linear(256, num_styles)\n",
    "        )\n",
    "        \n",
    "    def forward(self, x):\n",
    "        features = self.resnet(x)  # Extract features using ResNet50\n",
    "        genre_logits = self.genre_classifier(features)\n",
    "        style_logits = self.style_classifier(features)\n",
    "        return genre_logits, style_logits\n",
    "\n",
    "# Determine the number of classes from the dataset\n",
    "num_genres = len(set(dataset[\"genre\"]))\n",
    "num_styles = len(set(dataset[\"style\"]))\n",
    "print(f\"Number of genre classes: {num_genres}\")\n",
    "print(f\"Number of style classes: {num_styles}\")\n"
   ]
  },
  {
   "cell_type": "code",
   "execution_count": 4,
   "id": "fd5b7fb4-4fbd-4fad-8e3c-342f9b6f7b3d",
   "metadata": {},
   "outputs": [
    {
     "name": "stderr",
     "output_type": "stream",
     "text": [
      "C:\\Users\\wassi\\Documents\\Fanshawe\\S2\\pytorch\\.venv\\Lib\\site-packages\\torchvision\\models\\_utils.py:208: UserWarning: The parameter 'pretrained' is deprecated since 0.13 and may be removed in the future, please use 'weights' instead.\n",
      "  warnings.warn(\n",
      "C:\\Users\\wassi\\Documents\\Fanshawe\\S2\\pytorch\\.venv\\Lib\\site-packages\\torchvision\\models\\_utils.py:223: UserWarning: Arguments other than a weight enum or `None` for 'weights' are deprecated since 0.13 and may be removed in the future. The current behavior is equivalent to passing `weights=ResNet50_Weights.IMAGENET1K_V1`. You can also use `weights=ResNet50_Weights.DEFAULT` to get the most up-to-date weights.\n",
      "  warnings.warn(msg)\n",
      "C:\\Users\\wassi\\Documents\\Fanshawe\\S2\\pytorch\\.venv\\Lib\\site-packages\\torch\\optim\\lr_scheduler.py:62: UserWarning: The verbose parameter is deprecated. Please use get_last_lr() to access the learning rate.\n",
      "  warnings.warn(\n"
     ]
    }
   ],
   "source": [
    "# Model Training Setup\n",
    "device = torch.device(\"cuda\" if torch.cuda.is_available() else \"cpu\")\n",
    "model = ResNet50MultiHead(num_genres, num_styles).to(device)\n",
    "criterion = nn.CrossEntropyLoss()\n",
    "optimizer = optim.Adam(model.parameters(), lr=1e-3)\n",
    "scheduler = optim.lr_scheduler.ReduceLROnPlateau(optimizer, mode='min', factor=0.5, patience=2, verbose=True)\n"
   ]
  },
  {
   "cell_type": "code",
   "execution_count": 5,
   "id": "e1d2ea80-1858-43d1-a8a2-695cc23778d6",
   "metadata": {},
   "outputs": [
    {
     "data": {
      "application/vnd.jupyter.widget-view+json": {
       "model_id": "48242a3cb97844db8c6feefd73917e40",
       "version_major": 2,
       "version_minor": 0
      },
      "text/plain": [
       "Training Epoch 1:   0%|          | 0/374 [00:00<?, ?it/s]"
      ]
     },
     "metadata": {},
     "output_type": "display_data"
    },
    {
     "data": {
      "application/vnd.jupyter.widget-view+json": {
       "model_id": "0aaf0065911441929153324748d0fcdb",
       "version_major": 2,
       "version_minor": 0
      },
      "text/plain": [
       "Validation Epoch 1:   0%|          | 0/54 [00:00<?, ?it/s]"
      ]
     },
     "metadata": {},
     "output_type": "display_data"
    },
    {
     "name": "stdout",
     "output_type": "stream",
     "text": [
      "Epoch 1/10: Train Loss = 3.6223, Genre Acc = 0.4423, Style Acc = 0.3219, Joint Acc = 0.1836\n",
      "                  Val   Loss = 3.2636, Genre Acc = 0.5094, Style Acc = 0.4050, Joint Acc = 0.2579\n"
     ]
    },
    {
     "data": {
      "application/vnd.jupyter.widget-view+json": {
       "model_id": "fa139de512d34a01aadfe1611f257b74",
       "version_major": 2,
       "version_minor": 0
      },
      "text/plain": [
       "Training Epoch 2:   0%|          | 0/374 [00:00<?, ?it/s]"
      ]
     },
     "metadata": {},
     "output_type": "display_data"
    },
    {
     "data": {
      "application/vnd.jupyter.widget-view+json": {
       "model_id": "8ea02eabd81a43838999fc0e1e70be7f",
       "version_major": 2,
       "version_minor": 0
      },
      "text/plain": [
       "Validation Epoch 2:   0%|          | 0/54 [00:00<?, ?it/s]"
      ]
     },
     "metadata": {},
     "output_type": "display_data"
    },
    {
     "name": "stdout",
     "output_type": "stream",
     "text": [
      "Epoch 2/10: Train Loss = 3.2475, Genre Acc = 0.4997, Style Acc = 0.3935, Joint Acc = 0.2456\n",
      "                  Val   Loss = 3.1386, Genre Acc = 0.4988, Style Acc = 0.4326, Joint Acc = 0.2468\n"
     ]
    },
    {
     "data": {
      "application/vnd.jupyter.widget-view+json": {
       "model_id": "2c5fb236205f4494a633163bfd4af36b",
       "version_major": 2,
       "version_minor": 0
      },
      "text/plain": [
       "Training Epoch 3:   0%|          | 0/374 [00:00<?, ?it/s]"
      ]
     },
     "metadata": {},
     "output_type": "display_data"
    },
    {
     "data": {
      "application/vnd.jupyter.widget-view+json": {
       "model_id": "9728bcee955747abb6c8dcaffb0d0e65",
       "version_major": 2,
       "version_minor": 0
      },
      "text/plain": [
       "Validation Epoch 3:   0%|          | 0/54 [00:00<?, ?it/s]"
      ]
     },
     "metadata": {},
     "output_type": "display_data"
    },
    {
     "name": "stdout",
     "output_type": "stream",
     "text": [
      "Epoch 3/10: Train Loss = 3.1573, Genre Acc = 0.5127, Style Acc = 0.4192, Joint Acc = 0.2653\n",
      "                  Val   Loss = 3.1058, Genre Acc = 0.5381, Style Acc = 0.3951, Joint Acc = 0.2649\n"
     ]
    },
    {
     "data": {
      "application/vnd.jupyter.widget-view+json": {
       "model_id": "8691ad304a884e6bb18e4a92cda650b3",
       "version_major": 2,
       "version_minor": 0
      },
      "text/plain": [
       "Training Epoch 4:   0%|          | 0/374 [00:00<?, ?it/s]"
      ]
     },
     "metadata": {},
     "output_type": "display_data"
    },
    {
     "data": {
      "application/vnd.jupyter.widget-view+json": {
       "model_id": "fa2459c7d9e645aa8f2ad9ec946e576a",
       "version_major": 2,
       "version_minor": 0
      },
      "text/plain": [
       "Validation Epoch 4:   0%|          | 0/54 [00:00<?, ?it/s]"
      ]
     },
     "metadata": {},
     "output_type": "display_data"
    },
    {
     "name": "stdout",
     "output_type": "stream",
     "text": [
      "Epoch 4/10: Train Loss = 3.0827, Genre Acc = 0.5198, Style Acc = 0.4311, Joint Acc = 0.2768\n",
      "                  Val   Loss = 3.0922, Genre Acc = 0.5229, Style Acc = 0.4308, Joint Acc = 0.2872\n"
     ]
    },
    {
     "data": {
      "application/vnd.jupyter.widget-view+json": {
       "model_id": "2c27a6498c4b4e7f9491239611bf99d2",
       "version_major": 2,
       "version_minor": 0
      },
      "text/plain": [
       "Training Epoch 5:   0%|          | 0/374 [00:00<?, ?it/s]"
      ]
     },
     "metadata": {},
     "output_type": "display_data"
    },
    {
     "data": {
      "application/vnd.jupyter.widget-view+json": {
       "model_id": "fbf76b72ffee400790436aada09987e5",
       "version_major": 2,
       "version_minor": 0
      },
      "text/plain": [
       "Validation Epoch 5:   0%|          | 0/54 [00:00<?, ?it/s]"
      ]
     },
     "metadata": {},
     "output_type": "display_data"
    },
    {
     "name": "stdout",
     "output_type": "stream",
     "text": [
      "Epoch 5/10: Train Loss = 3.0166, Genre Acc = 0.5297, Style Acc = 0.4458, Joint Acc = 0.2889\n",
      "                  Val   Loss = 2.9993, Genre Acc = 0.5234, Style Acc = 0.4637, Joint Acc = 0.2855\n"
     ]
    },
    {
     "data": {
      "application/vnd.jupyter.widget-view+json": {
       "model_id": "090dc40df86648d6adf7fcebf4eed4d6",
       "version_major": 2,
       "version_minor": 0
      },
      "text/plain": [
       "Training Epoch 6:   0%|          | 0/374 [00:00<?, ?it/s]"
      ]
     },
     "metadata": {},
     "output_type": "display_data"
    },
    {
     "data": {
      "application/vnd.jupyter.widget-view+json": {
       "model_id": "dd25df3f3ae84f5ea2e0c02fdacc9d7a",
       "version_major": 2,
       "version_minor": 0
      },
      "text/plain": [
       "Validation Epoch 6:   0%|          | 0/54 [00:00<?, ?it/s]"
      ]
     },
     "metadata": {},
     "output_type": "display_data"
    },
    {
     "name": "stdout",
     "output_type": "stream",
     "text": [
      "Epoch 6/10: Train Loss = 3.0018, Genre Acc = 0.5338, Style Acc = 0.4490, Joint Acc = 0.2941\n",
      "                  Val   Loss = 2.9983, Genre Acc = 0.5305, Style Acc = 0.4637, Joint Acc = 0.3025\n"
     ]
    },
    {
     "data": {
      "application/vnd.jupyter.widget-view+json": {
       "model_id": "8ce5fa191e8447be86b4ed3512c5159c",
       "version_major": 2,
       "version_minor": 0
      },
      "text/plain": [
       "Training Epoch 7:   0%|          | 0/374 [00:00<?, ?it/s]"
      ]
     },
     "metadata": {},
     "output_type": "display_data"
    },
    {
     "data": {
      "application/vnd.jupyter.widget-view+json": {
       "model_id": "74eaa765866845b8959a8025593ccbe7",
       "version_major": 2,
       "version_minor": 0
      },
      "text/plain": [
       "Validation Epoch 7:   0%|          | 0/54 [00:00<?, ?it/s]"
      ]
     },
     "metadata": {},
     "output_type": "display_data"
    },
    {
     "name": "stdout",
     "output_type": "stream",
     "text": [
      "Epoch 7/10: Train Loss = 2.9724, Genre Acc = 0.5371, Style Acc = 0.4593, Joint Acc = 0.3004\n",
      "                  Val   Loss = 2.9467, Genre Acc = 0.5557, Style Acc = 0.4531, Joint Acc = 0.2995\n"
     ]
    },
    {
     "data": {
      "application/vnd.jupyter.widget-view+json": {
       "model_id": "0046bbd8d6b340a0acf8de152252e934",
       "version_major": 2,
       "version_minor": 0
      },
      "text/plain": [
       "Training Epoch 8:   0%|          | 0/374 [00:00<?, ?it/s]"
      ]
     },
     "metadata": {},
     "output_type": "display_data"
    },
    {
     "data": {
      "application/vnd.jupyter.widget-view+json": {
       "model_id": "ad48bc03c99f4cb98b0e8897fe639454",
       "version_major": 2,
       "version_minor": 0
      },
      "text/plain": [
       "Validation Epoch 8:   0%|          | 0/54 [00:00<?, ?it/s]"
      ]
     },
     "metadata": {},
     "output_type": "display_data"
    },
    {
     "name": "stdout",
     "output_type": "stream",
     "text": [
      "Epoch 8/10: Train Loss = 2.8967, Genre Acc = 0.5485, Style Acc = 0.4694, Joint Acc = 0.3102\n",
      "                  Val   Loss = 3.0110, Genre Acc = 0.5123, Style Acc = 0.4601, Joint Acc = 0.2884\n"
     ]
    },
    {
     "data": {
      "application/vnd.jupyter.widget-view+json": {
       "model_id": "466a772622d94c81b82d901d9f4785b2",
       "version_major": 2,
       "version_minor": 0
      },
      "text/plain": [
       "Training Epoch 9:   0%|          | 0/374 [00:00<?, ?it/s]"
      ]
     },
     "metadata": {},
     "output_type": "display_data"
    },
    {
     "data": {
      "application/vnd.jupyter.widget-view+json": {
       "model_id": "6c1dafaa2fcc47aba0e021f43cf8e75c",
       "version_major": 2,
       "version_minor": 0
      },
      "text/plain": [
       "Validation Epoch 9:   0%|          | 0/54 [00:00<?, ?it/s]"
      ]
     },
     "metadata": {},
     "output_type": "display_data"
    },
    {
     "name": "stdout",
     "output_type": "stream",
     "text": [
      "Epoch 9/10: Train Loss = 2.8922, Genre Acc = 0.5464, Style Acc = 0.4678, Joint Acc = 0.3114\n",
      "                  Val   Loss = 2.8688, Genre Acc = 0.5504, Style Acc = 0.4719, Joint Acc = 0.3253\n"
     ]
    },
    {
     "data": {
      "application/vnd.jupyter.widget-view+json": {
       "model_id": "3b6f20ef8e624719b1a5ab96aafb5d3d",
       "version_major": 2,
       "version_minor": 0
      },
      "text/plain": [
       "Training Epoch 10:   0%|          | 0/374 [00:00<?, ?it/s]"
      ]
     },
     "metadata": {},
     "output_type": "display_data"
    },
    {
     "data": {
      "application/vnd.jupyter.widget-view+json": {
       "model_id": "053a1f14ed76479dafdd392fe7e05cfb",
       "version_major": 2,
       "version_minor": 0
      },
      "text/plain": [
       "Validation Epoch 10:   0%|          | 0/54 [00:00<?, ?it/s]"
      ]
     },
     "metadata": {},
     "output_type": "display_data"
    },
    {
     "name": "stdout",
     "output_type": "stream",
     "text": [
      "Epoch 10/10: Train Loss = 2.8774, Genre Acc = 0.5498, Style Acc = 0.4687, Joint Acc = 0.3155\n",
      "                  Val   Loss = 2.8577, Genre Acc = 0.5692, Style Acc = 0.4560, Joint Acc = 0.3042\n",
      "Training complete\n"
     ]
    }
   ],
   "source": [
    "# Training, Validation, and Testing\n",
    "num_epochs = 10\n",
    "\n",
    "# Lists to store history\n",
    "def compute_metrics(genre_logits, style_logits, genre_labels, style_labels):\n",
    "    pred_genre = torch.argmax(genre_logits, dim=1)\n",
    "    pred_style = torch.argmax(style_logits, dim=1)\n",
    "    acc_genre = (pred_genre == genre_labels).float().mean().item()\n",
    "    acc_style = (pred_style == style_labels).float().mean().item()\n",
    "    joint_acc = ((pred_genre == genre_labels) & (pred_style == style_labels)).float().mean().item()\n",
    "    return acc_genre, acc_style, joint_acc\n",
    "\n",
    "history = {\n",
    "    \"train_loss\": [],\n",
    "    \"train_genre_acc\": [],\n",
    "    \"train_style_acc\": [],\n",
    "    \"train_joint_acc\": [],\n",
    "    \"val_loss\": [],\n",
    "    \"val_genre_acc\": [],\n",
    "    \"val_style_acc\": [],\n",
    "    \"val_joint_acc\": []\n",
    "}\n",
    "\n",
    "for epoch in range(num_epochs):\n",
    "    # Training\n",
    "    model.train()\n",
    "    train_loss = 0.0\n",
    "    train_acc_genre = 0.0\n",
    "    train_acc_style = 0.0\n",
    "    train_joint_acc = 0.0\n",
    "    total_train = 0\n",
    "    \n",
    "    for batch in tqdm(train_loader, desc=f\"Training Epoch {epoch+1}\", leave=False):\n",
    "        images = batch[\"image\"].to(device)\n",
    "        genre_labels = batch[\"genre\"].to(device)\n",
    "        style_labels = batch[\"style\"].to(device)\n",
    "        \n",
    "        optimizer.zero_grad()\n",
    "        genre_logits, style_logits = model(images)\n",
    "        loss = criterion(genre_logits, genre_labels) + criterion(style_logits, style_labels)\n",
    "        loss.backward()\n",
    "        optimizer.step()\n",
    "        \n",
    "        batch_size = images.size(0)\n",
    "        train_loss += loss.item() * batch_size\n",
    "        acc_g, acc_s, joint = compute_metrics(genre_logits, style_logits, genre_labels, style_labels)\n",
    "        train_acc_genre += acc_g * batch_size\n",
    "        train_acc_style += acc_s * batch_size\n",
    "        train_joint_acc += joint * batch_size\n",
    "        total_train += batch_size\n",
    "    \n",
    "    avg_train_loss = train_loss / total_train\n",
    "    avg_train_acc_genre = train_acc_genre / total_train\n",
    "    avg_train_acc_style = train_acc_style / total_train\n",
    "    avg_train_joint_acc = train_joint_acc / total_train\n",
    "\n",
    "    # Save training metrics\n",
    "    history[\"train_loss\"].append(avg_train_loss)\n",
    "    history[\"train_genre_acc\"].append(avg_train_acc_genre)\n",
    "    history[\"train_style_acc\"].append(avg_train_acc_style)\n",
    "    history[\"train_joint_acc\"].append(avg_train_joint_acc)\n",
    "\n",
    "    # Validation\n",
    "    model.eval()\n",
    "    val_loss = 0.0\n",
    "    val_acc_genre = 0.0\n",
    "    val_acc_style = 0.0\n",
    "    val_joint_acc = 0.0\n",
    "    total_val = 0\n",
    "    with torch.no_grad():\n",
    "        for batch in tqdm(val_loader, desc=f\"Validation Epoch {epoch+1}\", leave=False):\n",
    "            images = batch[\"image\"].to(device)\n",
    "            genre_labels = batch[\"genre\"].to(device)\n",
    "            style_labels = batch[\"style\"].to(device)\n",
    "            \n",
    "            genre_logits, style_logits = model(images)\n",
    "            loss = criterion(genre_logits, genre_labels) + criterion(style_logits, style_labels)\n",
    "            batch_size = images.size(0)\n",
    "            val_loss += loss.item() * batch_size\n",
    "            acc_g, acc_s, joint = compute_metrics(genre_logits, style_logits, genre_labels, style_labels)\n",
    "            val_acc_genre += acc_g * batch_size\n",
    "            val_acc_style += acc_s * batch_size\n",
    "            val_joint_acc += joint * batch_size\n",
    "            total_val += batch_size\n",
    "\n",
    "    avg_val_loss = val_loss / total_val\n",
    "    avg_val_acc_genre = val_acc_genre / total_val\n",
    "    avg_val_acc_style = val_acc_style / total_val\n",
    "    avg_val_joint_acc = val_joint_acc / total_val\n",
    "\n",
    "    # Save validation metrics\n",
    "    history[\"val_loss\"].append(avg_val_loss)\n",
    "    history[\"val_genre_acc\"].append(avg_val_acc_genre)\n",
    "    history[\"val_style_acc\"].append(avg_val_acc_style)\n",
    "    history[\"val_joint_acc\"].append(avg_val_joint_acc)\n",
    "\n",
    "    print(f\"Epoch {epoch+1}/{num_epochs}: Train Loss = {avg_train_loss:.4f}, Genre Acc = {avg_train_acc_genre:.4f}, \"\n",
    "          f\"Style Acc = {avg_train_acc_style:.4f}, Joint Acc = {avg_train_joint_acc:.4f}\")\n",
    "    print(f\"                  Val   Loss = {avg_val_loss:.4f}, Genre Acc = {avg_val_acc_genre:.4f}, \"\n",
    "          f\"Style Acc = {avg_val_acc_style:.4f}, Joint Acc = {avg_val_joint_acc:.4f}\")\n",
    "    \n",
    "    scheduler.step(avg_val_loss)\n",
    "\n",
    "print(\"Training complete\")\n"
   ]
  },
  {
   "cell_type": "code",
   "execution_count": 6,
   "id": "95559179-fca4-4aee-9326-3bd56f30544c",
   "metadata": {},
   "outputs": [
    {
     "data": {
      "application/vnd.jupyter.widget-view+json": {
       "model_id": "0b3a54ca44604819b016b6d5b9c6fa25",
       "version_major": 2,
       "version_minor": 0
      },
      "text/plain": [
       "Testing:   0%|          | 0/107 [00:00<?, ?it/s]"
      ]
     },
     "metadata": {},
     "output_type": "display_data"
    },
    {
     "name": "stdout",
     "output_type": "stream",
     "text": [
      "Test Loss = 2.8735, Genre Acc = 0.5646, Style Acc = 0.4670, Joint Acc = 0.3065\n",
      "Testing complete\n"
     ]
    }
   ],
   "source": [
    "# Test\n",
    "model.eval()\n",
    "\n",
    "test_loss = 0.0\n",
    "test_acc_genre = 0.0\n",
    "test_acc_style = 0.0\n",
    "test_joint_acc = 0.0\n",
    "total_test = 0\n",
    "\n",
    "with torch.no_grad():\n",
    "    for batch in tqdm(test_loader, desc=\"Testing\", leave=False):\n",
    "        images = batch[\"image\"].to(device)\n",
    "        genre_labels = batch[\"genre\"].to(device)\n",
    "        style_labels = batch[\"style\"].to(device)\n",
    "        \n",
    "        genre_logits, style_logits = model(images)\n",
    "        loss = criterion(genre_logits, genre_labels) + criterion(style_logits, style_labels)\n",
    "        batch_size = images.size(0)\n",
    "        test_loss += loss.item() * batch_size\n",
    "        acc_g, acc_s, joint = compute_metrics(genre_logits, style_logits, genre_labels, style_labels)\n",
    "        test_acc_genre += acc_g * batch_size\n",
    "        test_acc_style += acc_s * batch_size\n",
    "        test_joint_acc += joint * batch_size\n",
    "        total_test += batch_size\n",
    "\n",
    "avg_test_loss = test_loss / total_test\n",
    "avg_test_acc_genre = test_acc_genre / total_test\n",
    "avg_test_acc_style = test_acc_style / total_test\n",
    "avg_test_joint_acc = test_joint_acc / total_test\n",
    "\n",
    "print(f\"Test Loss = {avg_test_loss:.4f}, Genre Acc = {avg_test_acc_genre:.4f}, \"\n",
    "      f\"Style Acc = {avg_test_acc_style:.4f}, Joint Acc = {avg_test_joint_acc:.4f}\")\n",
    "\n",
    "print(\"Testing complete\")\n"
   ]
  },
  {
   "cell_type": "code",
   "execution_count": 9,
   "id": "04f8df50-e9b1-4c69-9e81-17f2407be6aa",
   "metadata": {},
   "outputs": [
    {
     "name": "stdout",
     "output_type": "stream",
     "text": [
      "Model saved\n",
      "Training history saved\n"
     ]
    }
   ],
   "source": [
    "# Save the model and training history locally\n",
    "torch.save(model.state_dict(), \"C:/Users/wassi/Documents/Fanshawe/S2/pytorch/Project/wikiart_classification/models_history/resnet50/resnet50_multihhead.pth\")\n",
    "print(\"Model saved\")\n",
    "\n",
    "torch.save(history, \"C:/Users/wassi/Documents/Fanshawe/S2/pytorch/Project/wikiart_classification/models_history/resnet50/resnet50_training_history.pth\")\n",
    "print(\"Training history saved\")\n"
   ]
  },
  {
   "cell_type": "code",
   "execution_count": 11,
   "id": "5339380e-2ef6-4072-ad14-03daf010b75c",
   "metadata": {},
   "outputs": [
    {
     "data": {
      "image/png": "[encoded data removed]",
      "text/plain": [
       "<Figure size 1000x600 with 2 Axes>"
      ]
     },
     "metadata": {},
     "output_type": "display_data"
    }
   ],
   "source": [
    "history = torch.load(\"C:/Users/wassi/Documents/Fanshawe/S2/pytorch/Project/wikiart_classification/models_history/resnet50/resnet50_training_history.pth\")\n",
    "\n",
    "num_epochs = len(history[\"train_loss\"])\n",
    "epochs = range(1, num_epochs + 1)\n",
    "\n",
    "fig, ax1 = plt.subplots(figsize=(10, 6))\n",
    "\n",
    "ax1.set_xlabel(\"Epoch\")\n",
    "ax1.set_ylabel(\"Loss\", color=\"tab:blue\")\n",
    "ax1.plot(epochs, history[\"train_loss\"], label=\"Train Loss\", color=\"tab:blue\", linestyle=\"--\")\n",
    "ax1.plot(epochs, history[\"val_loss\"], label=\"Val Loss\", color=\"tab:blue\")\n",
    "ax1.tick_params(axis=\"y\", labelcolor=\"tab:blue\")\n",
    "\n",
    "ax2 = ax1.twinx()\n",
    "ax2.set_ylabel(\"Accuracy\", color=\"tab:red\")\n",
    "ax2.plot(epochs, history[\"train_genre_acc\"], label=\"Train Genre Acc\", color=\"tab:red\", linestyle=\"--\")\n",
    "ax2.plot(epochs, history[\"val_genre_acc\"], label=\"Val Genre Acc\", color=\"tab:red\")\n",
    "ax2.plot(epochs, history[\"train_style_acc\"], label=\"Train Style Acc\", color=\"tab:green\", linestyle=\"--\")\n",
    "ax2.plot(epochs, history[\"val_style_acc\"], label=\"Val Style Acc\", color=\"tab:green\")\n",
    "ax2.plot(epochs, history[\"train_joint_acc\"], label=\"Train Joint Acc\", color=\"tab:purple\", linestyle=\"--\")\n",
    "ax2.plot(epochs, history[\"val_joint_acc\"], label=\"Val Joint Acc\", color=\"tab:purple\")\n",
    "ax2.tick_params(axis=\"y\", labelcolor=\"tab:red\")\n",
    "\n",
    "lines1, labels1 = ax1.get_legend_handles_labels()\n",
    "lines2, labels2 = ax2.get_legend_handles_labels()\n",
    "ax2.legend(lines1 + lines2, labels1 + labels2, loc=\"upper center\", ncol=3)\n",
    "\n",
    "plt.title(\"Training Performance Metrics\")\n",
    "plt.tight_layout()\n",
    "plt.show()\n"
   ]
  }
 ],
 "metadata": {
  "kernelspec": {
   "display_name": "Python 3 (ipykernel)",
   "language": "python",
   "name": "python3"
  },
  "language_info": {
   "codemirror_mode": {
    "name": "ipython",
    "version": 3
   },
   "file_extension": ".py",
   "mimetype": "text/x-python",
   "name": "python",
   "nbconvert_exporter": "python",
   "pygments_lexer": "ipython3",
   "version": "3.12.8"
  }
 },
 "nbformat": 4,
 "nbformat_minor": 5
}
